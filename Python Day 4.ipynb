{
 "cells": [
  {
   "cell_type": "markdown",
   "metadata": {},
   "source": [
    "# Introduction to List"
   ]
  },
  {
   "cell_type": "code",
   "execution_count": 1,
   "metadata": {},
   "outputs": [
    {
     "name": "stdout",
     "output_type": "stream",
     "text": [
      "[10, 20, 30, 40, 50]\n"
     ]
    }
   ],
   "source": [
    "Numbers=[10 , 20 , 30 , 40 , 50]\n",
    "print(Numbers)"
   ]
  },
  {
   "cell_type": "code",
   "execution_count": 2,
   "metadata": {},
   "outputs": [
    {
     "name": "stdout",
     "output_type": "stream",
     "text": [
      "[10, 'name', 4.0]\n"
     ]
    }
   ],
   "source": [
    "li=[10 , 'name' , 4.0]\n",
    "print(li)"
   ]
  },
  {
   "cell_type": "code",
   "execution_count": 6,
   "metadata": {},
   "outputs": [
    {
     "data": {
      "text/plain": [
       "[10, 30, 50]"
      ]
     },
     "execution_count": 6,
     "metadata": {},
     "output_type": "execute_result"
    }
   ],
   "source": [
    "#List slicing\n",
    "Numbers=[10 , 20 , 30 , 40 , 50]\n",
    "Numbers[0:6:2]"
   ]
  },
  {
   "cell_type": "code",
   "execution_count": 7,
   "metadata": {},
   "outputs": [
    {
     "name": "stdout",
     "output_type": "stream",
     "text": [
      "[10, 20, 30, 40, 50, 60]\n"
     ]
    }
   ],
   "source": [
    "#how to add data in a list\n",
    "Numbers=[10 , 20 , 30 , 40 , 50]\n",
    "Numbers.append(60)\n",
    "print(Numbers)"
   ]
  },
  {
   "cell_type": "code",
   "execution_count": 9,
   "metadata": {},
   "outputs": [
    {
     "name": "stdout",
     "output_type": "stream",
     "text": [
      "[10, 20, 30, 5, 40, 50]\n"
     ]
    }
   ],
   "source": [
    "Numbers=[10 , 20 , 30 , 40 , 50]\n",
    "Numbers.insert(3 , 5)\n",
    "print(Numbers)"
   ]
  },
  {
   "cell_type": "code",
   "execution_count": 10,
   "metadata": {},
   "outputs": [
    {
     "name": "stdout",
     "output_type": "stream",
     "text": [
      "['john', 'stark', 'bella', 'doe']\n"
     ]
    }
   ],
   "source": [
    "Name=['john' , 'bella' , 'doe']\n",
    "Name.insert(1 , 'stark')\n",
    "print(Name)"
   ]
  },
  {
   "cell_type": "code",
   "execution_count": 11,
   "metadata": {},
   "outputs": [
    {
     "name": "stdout",
     "output_type": "stream",
     "text": [
      "[1, 2, 3, 4, 5, 6, 7, 8]\n"
     ]
    }
   ],
   "source": [
    "#how to join to separate list\n",
    "n1=[1 , 2 , 3 , 4]\n",
    "n2=[5 , 6 , 7 , 8]\n",
    "n3=n1+n2\n",
    "print(n3)"
   ]
  },
  {
   "cell_type": "code",
   "execution_count": 13,
   "metadata": {},
   "outputs": [
    {
     "name": "stdout",
     "output_type": "stream",
     "text": [
      "[1, 2, 3, 4, 5, 6, 7, 8, 5, 6, 7, 8]\n"
     ]
    }
   ],
   "source": [
    "n1.extend(n2)\n",
    "print(n1)"
   ]
  },
  {
   "cell_type": "code",
   "execution_count": 14,
   "metadata": {},
   "outputs": [
    {
     "name": "stdout",
     "output_type": "stream",
     "text": [
      "[1, 2, 3, 4, 5, 6]\n"
     ]
    }
   ],
   "source": [
    "#how to delete a particular element from the list\n",
    "n=[1 , 2 , 3 , 4 , 5 , 6 , 7]\n",
    "n.pop()\n",
    "print(n)"
   ]
  },
  {
   "cell_type": "code",
   "execution_count": 17,
   "metadata": {},
   "outputs": [
    {
     "name": "stdout",
     "output_type": "stream",
     "text": [
      "apple is present\n"
     ]
    }
   ],
   "source": [
    "#Exercise\n",
    "fruits=['apple' , 'mango' , 'banana' , 'orange']\n",
    "if 'apple' in fruits:\n",
    "    print('apple is present')\n",
    "else:\n",
    "    print('apple is absent')\n"
   ]
  },
  {
   "cell_type": "code",
   "execution_count": 18,
   "metadata": {},
   "outputs": [
    {
     "name": "stdout",
     "output_type": "stream",
     "text": [
      "1\n",
      "2\n",
      "3\n",
      "4\n",
      "5\n"
     ]
    }
   ],
   "source": [
    "#looping in list\n",
    "no=[1 ,2 , 3 ,4 ,5]\n",
    "for i in no:\n",
    "    print(i)"
   ]
  },
  {
   "cell_type": "markdown",
   "metadata": {},
   "source": [
    "# Nested List"
   ]
  },
  {
   "cell_type": "code",
   "execution_count": 3,
   "metadata": {},
   "outputs": [
    {
     "data": {
      "text/plain": [
       "2"
      ]
     },
     "execution_count": 3,
     "metadata": {},
     "output_type": "execute_result"
    }
   ],
   "source": [
    "no=[1 , 2 , 3 ,[1 , 2 , [2 , 3]]]\n",
    "no[1]"
   ]
  },
  {
   "cell_type": "code",
   "execution_count": 6,
   "metadata": {},
   "outputs": [],
   "source": [
    "                   #(3)\n",
    "    \n",
    "    \n",
    "    #0   1   2    0  1  \n",
    "    \n",
    "                            #(2)\n",
    "                          #0    1\n",
    "#no=[1 , 2 , 3 ,[1 , 2 , [2 , 3]]]"
   ]
  },
  {
   "cell_type": "code",
   "execution_count": null,
   "metadata": {},
   "outputs": [],
   "source": [
    "   0   1        (3)       (4)\n",
    "             0   1      0    1\n",
    "no=[1 , 2 , [3 , 4 ] , [5 , 6]]\n"
   ]
  },
  {
   "cell_type": "code",
   "execution_count": 7,
   "metadata": {},
   "outputs": [
    {
     "data": {
      "text/plain": [
       "3"
      ]
     },
     "execution_count": 7,
     "metadata": {},
     "output_type": "execute_result"
    }
   ],
   "source": [
    "no=[1 , 2 , 3 ,[1 , 2 , [2 , 3]]]\n",
    "no[3][2][1]"
   ]
  },
  {
   "cell_type": "code",
   "execution_count": 8,
   "metadata": {},
   "outputs": [
    {
     "data": {
      "text/plain": [
       "'edward'"
      ]
     },
     "execution_count": 8,
     "metadata": {},
     "output_type": "execute_result"
    }
   ],
   "source": [
    "name=['john' ,['bella' , 'edward'] , 'deniz']\n",
    "name[1][1]"
   ]
  },
  {
   "cell_type": "markdown",
   "metadata": {},
   "source": [
    "#  Some more methods in list"
   ]
  },
  {
   "cell_type": "code",
   "execution_count": 9,
   "metadata": {},
   "outputs": [],
   "source": [
    "#count-it count the no of particular element\n",
    "#sort - sort the elements\n",
    "#reverse - reverse the elements in the list\n",
    "#clear - delete the whole list\n",
    "#copy - copy method is used to copy the list \n",
    "#split - split the string or an elements\n",
    "#join - to join the list in a string\n",
    "#list - it is used to generate a list"
   ]
  },
  {
   "cell_type": "code",
   "execution_count": 10,
   "metadata": {},
   "outputs": [
    {
     "name": "stdout",
     "output_type": "stream",
     "text": [
      "2\n"
     ]
    }
   ],
   "source": [
    "#count\n",
    "name=['john' , 'bella' , 'stark' , 'edward' , 'bella']\n",
    "print(name.count('bella'))\n"
   ]
  },
  {
   "cell_type": "code",
   "execution_count": 15,
   "metadata": {},
   "outputs": [
    {
     "name": "stdout",
     "output_type": "stream",
     "text": [
      "['bella', 'bella', 'edward', 'john', 'stark']\n"
     ]
    }
   ],
   "source": [
    "#sort\n",
    "name=['john' , 'bella' , 'stark' , 'edward' , 'bella']\n",
    "name.sort()\n",
    "print(name)"
   ]
  },
  {
   "cell_type": "code",
   "execution_count": 16,
   "metadata": {},
   "outputs": [
    {
     "name": "stdout",
     "output_type": "stream",
     "text": [
      "[1, 2, 3, 5, 6]\n"
     ]
    }
   ],
   "source": [
    "no=[3 , 5 ,1 , 6, 2]\n",
    "no.sort()\n",
    "print(no)"
   ]
  },
  {
   "cell_type": "code",
   "execution_count": 17,
   "metadata": {},
   "outputs": [
    {
     "name": "stdout",
     "output_type": "stream",
     "text": [
      "[5, 4, 3, 2, 1]\n"
     ]
    }
   ],
   "source": [
    "#reverse\n",
    "no=[1 ,2 ,3 ,4, 5]\n",
    "no.reverse()\n",
    "print(no)"
   ]
  },
  {
   "cell_type": "code",
   "execution_count": 18,
   "metadata": {},
   "outputs": [
    {
     "name": "stdout",
     "output_type": "stream",
     "text": [
      "['bella', 'edward', 'stark', 'bella', 'john']\n"
     ]
    }
   ],
   "source": [
    "name=['john' , 'bella' , 'stark' , 'edward' , 'bella']\n",
    "name.reverse()\n",
    "print(name)"
   ]
  },
  {
   "cell_type": "code",
   "execution_count": 19,
   "metadata": {},
   "outputs": [
    {
     "name": "stdout",
     "output_type": "stream",
     "text": [
      "[]\n"
     ]
    }
   ],
   "source": [
    "#clear\n",
    "no=[1 ,2 ,3 ,4, 5]\n",
    "no.clear()\n",
    "print(no)"
   ]
  },
  {
   "cell_type": "code",
   "execution_count": 20,
   "metadata": {},
   "outputs": [
    {
     "name": "stdout",
     "output_type": "stream",
     "text": [
      "['john', 'bella', 'stark', 'edward', 'bella']\n"
     ]
    }
   ],
   "source": [
    "name=['john' , 'bella' , 'stark' , 'edward' , 'bella']\n",
    "name_copy=name.copy()\n",
    "print(name_copy)"
   ]
  },
  {
   "cell_type": "code",
   "execution_count": 21,
   "metadata": {},
   "outputs": [
    {
     "name": "stdout",
     "output_type": "stream",
     "text": [
      "['john', '24']\n"
     ]
    }
   ],
   "source": [
    "#split\n",
    "user_info='john 24'.split()\n",
    "print(user_info)"
   ]
  },
  {
   "cell_type": "code",
   "execution_count": 22,
   "metadata": {},
   "outputs": [
    {
     "name": "stdout",
     "output_type": "stream",
     "text": [
      "bella 21\n",
      "bella\n",
      "21\n"
     ]
    }
   ],
   "source": [
    "name , age =input().split(' ')\n",
    "print(name)\n",
    "print(age)"
   ]
  },
  {
   "cell_type": "code",
   "execution_count": 26,
   "metadata": {},
   "outputs": [
    {
     "name": "stdout",
     "output_type": "stream",
     "text": [
      "john24\n"
     ]
    }
   ],
   "source": [
    "user_info=['john', '24']\n",
    "joined=''.join(user_info)\n",
    "print(joined)\n"
   ]
  },
  {
   "cell_type": "code",
   "execution_count": 28,
   "metadata": {},
   "outputs": [
    {
     "name": "stdout",
     "output_type": "stream",
     "text": [
      "[1, 2, 3, 4, 5, 6, 7, 8, 9, 10, 11, 12, 13, 14, 15, 16, 17, 18, 19, 20, 21, 22, 23, 24, 25, 26, 27, 28, 29, 30, 31, 32, 33, 34, 35, 36, 37, 38, 39, 40, 41, 42, 43, 44, 45, 46, 47, 48, 49, 50]\n"
     ]
    }
   ],
   "source": [
    "#list method\n",
    "no=list(range(1 , 51))\n",
    "print(no)"
   ]
  },
  {
   "cell_type": "code",
   "execution_count": 34,
   "metadata": {},
   "outputs": [
    {
     "name": "stdout",
     "output_type": "stream",
     "text": [
      "[1, 4, 9, 16, 25, 36, 49, 64, 81, 100]\n"
     ]
    }
   ],
   "source": [
    "#define a function which take a list as an argument and sqaure the elements of the list\n",
    "def square(l):\n",
    "    square=[] #[1 , 4 , ]\n",
    "    for i in l:\n",
    "        item=i**2\n",
    "        square.append(item)\n",
    "    return square\n",
    "li=list(range(1 , 11))\n",
    "res=square(li)\n",
    "print(res)\n"
   ]
  },
  {
   "cell_type": "code",
   "execution_count": 37,
   "metadata": {},
   "outputs": [
    {
     "name": "stdout",
     "output_type": "stream",
     "text": [
      "[20, 19, 18, 17, 16, 15, 14, 13, 12, 11, 10, 9, 8, 7, 6, 5, 4, 3, 2, 1]\n"
     ]
    }
   ],
   "source": [
    "#define a function which take list as an argument and return reveersed list\n",
    "def reversed(l):\n",
    "    reversed_list=l[::-1]\n",
    "    return reversed_list\n",
    "li=list(range(1 , 21))\n",
    "res=reversed(li)\n",
    "print(res)"
   ]
  },
  {
   "cell_type": "code",
   "execution_count": 40,
   "metadata": {},
   "outputs": [
    {
     "name": "stdout",
     "output_type": "stream",
     "text": [
      "['cba', 'fed', 'ihg']\n"
     ]
    }
   ],
   "source": [
    "#define the function which take list as an argument and return the reversed of a word of the list\n",
    "\n",
    "#['abc' , 'def' 'ghi']  \n",
    "def word_revesed(l):\n",
    "    elements=[]\n",
    "    for i in l:\n",
    "        item=i[::-1]\n",
    "        elements.append(item)\n",
    "    return elements\n",
    "li=['abc' , 'def' , 'ghi']\n",
    "res=word_revesed(li)\n",
    "print(res)\n",
    "    \n",
    "    \n",
    "    "
   ]
  },
  {
   "cell_type": "code",
   "execution_count": null,
   "metadata": {},
   "outputs": [],
   "source": []
  },
  {
   "cell_type": "code",
   "execution_count": null,
   "metadata": {},
   "outputs": [],
   "source": []
  }
 ],
 "metadata": {
  "kernelspec": {
   "display_name": "Python 3",
   "language": "python",
   "name": "python3"
  },
  "language_info": {
   "codemirror_mode": {
    "name": "ipython",
    "version": 3
   },
   "file_extension": ".py",
   "mimetype": "text/x-python",
   "name": "python",
   "nbconvert_exporter": "python",
   "pygments_lexer": "ipython3",
   "version": "3.7.1"
  }
 },
 "nbformat": 4,
 "nbformat_minor": 2
}
