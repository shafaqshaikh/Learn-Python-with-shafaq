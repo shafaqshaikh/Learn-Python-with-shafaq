{
 "cells": [
  {
   "cell_type": "markdown",
   "metadata": {},
   "source": [
    "# Object Oriented Programming"
   ]
  },
  {
   "cell_type": "code",
   "execution_count": 1,
   "metadata": {},
   "outputs": [],
   "source": [
    "#class\n",
    "#object\n",
    "#methods\n",
    "#init \n",
    "#inheritence\n",
    "#abstraction\n",
    "#encapsulation\n"
   ]
  },
  {
   "cell_type": "markdown",
   "metadata": {},
   "source": [
    "# Class"
   ]
  },
  {
   "cell_type": "code",
   "execution_count": null,
   "metadata": {},
   "outputs": [],
   "source": [
    "class - design(blueprint)\n",
    "e.g humans\n",
    "category - male , female , transgender \n",
    "e.g car\n",
    "category \n",
    " audi , bmw , maruti\n",
    "\n",
    "    "
   ]
  },
  {
   "cell_type": "markdown",
   "metadata": {},
   "source": [
    "# Objects"
   ]
  },
  {
   "cell_type": "code",
   "execution_count": null,
   "metadata": {},
   "outputs": [],
   "source": [
    "object - instance\n",
    " male , female , transgender \n",
    " audi , bmw , maruti"
   ]
  },
  {
   "cell_type": "code",
   "execution_count": 5,
   "metadata": {},
   "outputs": [
    {
     "name": "stdout",
     "output_type": "stream",
     "text": [
      "bark\n"
     ]
    }
   ],
   "source": [
    "class Dog():\n",
    "    def bark(self):\n",
    "        print('bark')\n",
    "d=Dog()\n",
    "d.bark()"
   ]
  },
  {
   "cell_type": "code",
   "execution_count": 6,
   "metadata": {},
   "outputs": [
    {
     "name": "stdout",
     "output_type": "stream",
     "text": [
      "<class 'int'>\n"
     ]
    }
   ],
   "source": [
    "n=1\n",
    "print(type(n))"
   ]
  },
  {
   "cell_type": "code",
   "execution_count": 7,
   "metadata": {},
   "outputs": [
    {
     "name": "stdout",
     "output_type": "stream",
     "text": [
      "<class 'str'>\n"
     ]
    }
   ],
   "source": [
    "s='shafaq'\n",
    "print(type(s))"
   ]
  },
  {
   "cell_type": "code",
   "execution_count": 8,
   "metadata": {},
   "outputs": [
    {
     "name": "stdout",
     "output_type": "stream",
     "text": [
      "Tim\n"
     ]
    }
   ],
   "source": [
    "class Dog():\n",
    "    def __init__(self , name ):\n",
    "        self.name = name\n",
    "        print(name)\n",
    "d=Dog(\"Tim\")"
   ]
  },
  {
   "cell_type": "markdown",
   "metadata": {},
   "source": [
    "# inheritence "
   ]
  },
  {
   "cell_type": "code",
   "execution_count": 39,
   "metadata": {},
   "outputs": [
    {
     "name": "stdout",
     "output_type": "stream",
     "text": [
      "feature  2 is working\n",
      "feature 1 is working\n"
     ]
    }
   ],
   "source": [
    "class A():\n",
    "    def feature1(self):\n",
    "        print('feature 1 is working')\n",
    "    def feature2(self):\n",
    "        print('feature  2 is working')\n",
    "a1=A()\n",
    "a2=A()\n",
    "a2.feature2()\n",
    "a1.feature1()\n",
    "\n"
   ]
  },
  {
   "cell_type": "markdown",
   "metadata": {},
   "source": [
    " class B(A):\n",
    "    def feature3(self):\n",
    "        print('feature 3 is working')\n",
    "    def feature4(self):\n",
    "        print('feature  4 is working')\n",
    "b1=B()\n",
    "b2=B()\n",
    "b1.feature3()\n",
    "b2.feature4()\n",
    "b1.feature1()\n",
    "b2.feature2()"
   ]
  },
  {
   "cell_type": "markdown",
   "metadata": {},
   "source": [
    "# Abstraction "
   ]
  },
  {
   "cell_type": "code",
   "execution_count": 14,
   "metadata": {},
   "outputs": [
    {
     "name": "stdout",
     "output_type": "stream",
     "text": [
      "[1, 2, 3, 4, 5, 8]\n"
     ]
    }
   ],
   "source": [
    "l=[1 ,3 , 5 ,2 , 8 , 4]\n",
    "l.sort()\n",
    "print(l)"
   ]
  },
  {
   "cell_type": "code",
   "execution_count": 15,
   "metadata": {},
   "outputs": [],
   "source": [
    "#abstract methods and classes\n",
    "class A():\n",
    "    def a(self):\n",
    "        pass"
   ]
  },
  {
   "cell_type": "markdown",
   "metadata": {},
   "source": [
    "# encapsulation"
   ]
  },
  {
   "cell_type": "code",
   "execution_count": 16,
   "metadata": {},
   "outputs": [
    {
     "name": "stdout",
     "output_type": "stream",
     "text": [
      "feature  2 is working\n",
      "feature 1 is working\n"
     ]
    }
   ],
   "source": [
    "class A():\n",
    "    def feature1(self):\n",
    "        print('feature 1 is working')\n",
    "    def feature2(self):\n",
    "        print('feature  2 is working')\n",
    "    def feature3(self):\n",
    "        print('feature 3 is working')\n",
    "    def feature4(self):\n",
    "        print('feature  4 is working')\n",
    "a1=A()\n",
    "a2=A()\n",
    "a2.feature2()\n",
    "a1.feature1()\n"
   ]
  },
  {
   "cell_type": "markdown",
   "metadata": {},
   "source": [
    "#  Exception Handling"
   ]
  },
  {
   "cell_type": "code",
   "execution_count": 20,
   "metadata": {},
   "outputs": [
    {
     "name": "stdout",
     "output_type": "stream",
     "text": [
      "seven\n",
      "invalid\n",
      "not allowed to play\n"
     ]
    }
   ],
   "source": [
    "try:\n",
    "    age=int(input())\n",
    "except:\n",
    "    print(\"invalid\")\n",
    "if age > 18:\n",
    "    print(\"allowed to play \")\n",
    "else:\n",
    "    print(\"not allowed to play\")"
   ]
  },
  {
   "cell_type": "code",
   "execution_count": 23,
   "metadata": {},
   "outputs": [
    {
     "name": "stdout",
     "output_type": "stream",
     "text": [
      "3\n",
      "0\n",
      "please enter a valid number\n"
     ]
    }
   ],
   "source": [
    "a=int(input())\n",
    "b=int(input())\n",
    "try:\n",
    "    c=a/b\n",
    "    print(c)\n",
    "except:\n",
    "    print(\"please enter a valid number\")"
   ]
  },
  {
   "cell_type": "markdown",
   "metadata": {},
   "source": [
    "#  File Handling"
   ]
  },
  {
   "cell_type": "code",
   "execution_count": 27,
   "metadata": {},
   "outputs": [
    {
     "name": "stdout",
     "output_type": "stream",
     "text": [
      "hey there shafaq here\n"
     ]
    }
   ],
   "source": [
    "f=open('file.txt' , 'r')\n",
    "print(f.read())"
   ]
  },
  {
   "cell_type": "code",
   "execution_count": 30,
   "metadata": {},
   "outputs": [
    {
     "data": {
      "text/plain": [
       "5"
      ]
     },
     "execution_count": 30,
     "metadata": {},
     "output_type": "execute_result"
    }
   ],
   "source": [
    "f=open('file.txt' , 'w')\n",
    "f.write('hello')"
   ]
  },
  {
   "cell_type": "code",
   "execution_count": 37,
   "metadata": {},
   "outputs": [],
   "source": [
    "f=open('file.txt' , 'a')\n",
    "f.write('\\n tanveer')\n",
    "f.close()\n"
   ]
  },
  {
   "cell_type": "code",
   "execution_count": 38,
   "metadata": {},
   "outputs": [],
   "source": [
    "f1=open('file1.txt' , 'r')\n",
    "f2=open('file2.txt' ,'w')\n",
    "f2.write(f1.read())\n",
    "f1.close()\n",
    "f2.close()"
   ]
  },
  {
   "cell_type": "code",
   "execution_count": null,
   "metadata": {},
   "outputs": [],
   "source": []
  }
 ],
 "metadata": {
  "kernelspec": {
   "display_name": "Python 3",
   "language": "python",
   "name": "python3"
  },
  "language_info": {
   "codemirror_mode": {
    "name": "ipython",
    "version": 3
   },
   "file_extension": ".py",
   "mimetype": "text/x-python",
   "name": "python",
   "nbconvert_exporter": "python",
   "pygments_lexer": "ipython3",
   "version": "3.7.1"
  }
 },
 "nbformat": 4,
 "nbformat_minor": 2
}
