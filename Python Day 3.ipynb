{
 "cells": [
  {
   "cell_type": "markdown",
   "metadata": {},
   "source": [
    "# For Loops in Python"
   ]
  },
  {
   "cell_type": "code",
   "execution_count": 1,
   "metadata": {},
   "outputs": [
    {
     "name": "stdout",
     "output_type": "stream",
     "text": [
      "Hello World\n",
      "Hello World\n",
      "Hello World\n",
      "Hello World\n",
      "Hello World\n",
      "Hello World\n",
      "Hello World\n",
      "Hello World\n",
      "Hello World\n",
      "Hello World\n"
     ]
    }
   ],
   "source": [
    "for i in range(10):\n",
    "    print(\"Hello World\")"
   ]
  },
  {
   "cell_type": "code",
   "execution_count": 6,
   "metadata": {},
   "outputs": [
    {
     "name": "stdout",
     "output_type": "stream",
     "text": [
      "165\n"
     ]
    }
   ],
   "source": [
    "#write a program to find the sum of numbers 1 to 10\n",
    "total=0\n",
    "for i in range(10 , 21):\n",
    "    total=total+i\n",
    "print(total)"
   ]
  },
  {
   "cell_type": "code",
   "execution_count": 5,
   "metadata": {},
   "outputs": [
    {
     "name": "stdout",
     "output_type": "stream",
     "text": [
      "Enter the no20\n",
      "210\n"
     ]
    }
   ],
   "source": [
    "n=int(input(\"Enter the no\"))\n",
    "total=0\n",
    "for i in range(1 , n+1):\n",
    "    total=total+i\n",
    "print(total)"
   ]
  },
  {
   "cell_type": "code",
   "execution_count": 9,
   "metadata": {},
   "outputs": [
    {
     "name": "stdout",
     "output_type": "stream",
     "text": [
      "Enter the number: 4444\n",
      "16\n"
     ]
    }
   ],
   "source": [
    "n=input(\"Enter the number: \")\n",
    "total=0\n",
    "for i in range(0 , len(n)):\n",
    "    total=total+int(n[i])\n",
    "print(total)\n",
    "\n",
    "    \n",
    "    \n"
   ]
  },
  {
   "cell_type": "markdown",
   "metadata": {},
   "source": [
    "# Break and Continue"
   ]
  },
  {
   "cell_type": "code",
   "execution_count": 10,
   "metadata": {},
   "outputs": [
    {
     "name": "stdout",
     "output_type": "stream",
     "text": [
      "Hello World\n",
      "Hello World\n",
      "Hello World\n",
      "Hello World\n",
      "Hello World\n"
     ]
    }
   ],
   "source": [
    "#Break\n",
    "for i in range(10):\n",
    "    if i==5:\n",
    "        break\n",
    "    print(\"Hello World\")"
   ]
  },
  {
   "cell_type": "code",
   "execution_count": 11,
   "metadata": {},
   "outputs": [
    {
     "name": "stdout",
     "output_type": "stream",
     "text": [
      "0\n",
      "1\n",
      "2\n",
      "3\n",
      "4\n",
      "6\n",
      "7\n",
      "8\n",
      "9\n"
     ]
    }
   ],
   "source": [
    "#Continue\n",
    "for i in range(10):\n",
    "    if i==5:\n",
    "        continue\n",
    "    print(i)\n"
   ]
  },
  {
   "cell_type": "code",
   "execution_count": 15,
   "metadata": {},
   "outputs": [
    {
     "name": "stdout",
     "output_type": "stream",
     "text": [
      "0\n",
      "2\n",
      "4\n",
      "6\n",
      "8\n",
      "10\n"
     ]
    }
   ],
   "source": [
    "# Range Function in step argument\n",
    "for i in range( 0 , 11 , 2 ):\n",
    "    print(i)"
   ]
  },
  {
   "cell_type": "code",
   "execution_count": 16,
   "metadata": {},
   "outputs": [
    {
     "name": "stdout",
     "output_type": "stream",
     "text": [
      "T\n",
      "a\n",
      "n\n",
      "v\n",
      "e\n",
      "e\n",
      "r\n"
     ]
    }
   ],
   "source": [
    "#for loop and string\n",
    "name=\"Tanveer\"\n",
    "for i in name:\n",
    "    print(i)\n"
   ]
  },
  {
   "cell_type": "code",
   "execution_count": 17,
   "metadata": {},
   "outputs": [
    {
     "name": "stdout",
     "output_type": "stream",
     "text": [
      "T\n",
      "a\n",
      "n\n",
      "v\n",
      "e\n",
      "e\n",
      "r\n"
     ]
    }
   ],
   "source": [
    "for i in \"Tanveer\":\n",
    "    print(i)"
   ]
  },
  {
   "cell_type": "markdown",
   "metadata": {},
   "source": [
    "# Functions in Python"
   ]
  },
  {
   "cell_type": "code",
   "execution_count": 18,
   "metadata": {},
   "outputs": [
    {
     "name": "stdout",
     "output_type": "stream",
     "text": [
      "hello\n"
     ]
    }
   ],
   "source": [
    "def hello():\n",
    "    print(\"hello\")\n",
    "hello()\n",
    "    "
   ]
  },
  {
   "cell_type": "code",
   "execution_count": 21,
   "metadata": {},
   "outputs": [
    {
     "name": "stdout",
     "output_type": "stream",
     "text": [
      "13\n"
     ]
    }
   ],
   "source": [
    "def add(a , b):\n",
    "    c=a+b\n",
    "    print(c)\n",
    "add(6 , 7)"
   ]
  },
  {
   "cell_type": "code",
   "execution_count": 22,
   "metadata": {},
   "outputs": [
    {
     "name": "stdout",
     "output_type": "stream",
     "text": [
      "r\n"
     ]
    }
   ],
   "source": [
    "#write a program to to take string as an input and print the last character of string\n",
    "def last_char(name):\n",
    "    char=name[-1]\n",
    "    print(char)\n",
    "last_char(\"tanveer\")"
   ]
  },
  {
   "cell_type": "code",
   "execution_count": 23,
   "metadata": {},
   "outputs": [
    {
     "data": {
      "text/plain": [
       "'r'"
      ]
     },
     "execution_count": 23,
     "metadata": {},
     "output_type": "execute_result"
    }
   ],
   "source": [
    "def last_char(name):\n",
    "    char=name[-1]\n",
    "    return char\n",
    "last_char(\"tanveer\")"
   ]
  },
  {
   "cell_type": "code",
   "execution_count": 27,
   "metadata": {},
   "outputs": [
    {
     "data": {
      "text/plain": [
       "True"
      ]
     },
     "execution_count": 27,
     "metadata": {},
     "output_type": "execute_result"
    }
   ],
   "source": [
    "def odd_even(no):\n",
    "    if no%2==0:\n",
    "        return True\n",
    "    else:\n",
    "        return  False\n",
    "odd_even(4)\n",
    "        "
   ]
  },
  {
   "cell_type": "code",
   "execution_count": 28,
   "metadata": {},
   "outputs": [
    {
     "name": "stdout",
     "output_type": "stream",
     "text": [
      "Enter the first Number: 8\n",
      "Enter the second Number: 12\n",
      "12\n"
     ]
    }
   ],
   "source": [
    "#define a function to find the greater no from two numbers\n",
    "def greater(a , b):  \n",
    "    if a > b:\n",
    "        return a\n",
    "    else:\n",
    "        return b\n",
    "x=int(input(\"Enter the first Number: \"))\n",
    "y=int(input(\"Enter the second Number: \"))\n",
    "result=greater(x , y)\n",
    "print(result)\n"
   ]
  },
  {
   "cell_type": "code",
   "execution_count": 32,
   "metadata": {},
   "outputs": [
    {
     "name": "stdout",
     "output_type": "stream",
     "text": [
      "Enter the string: malayalam\n",
      "Palindrome\n"
     ]
    }
   ],
   "source": [
    "#Check whether the string is palindrome or not\n",
    "def palindrome(string):\n",
    "    r_string=string[::-1]\n",
    "    if string==r_string:\n",
    "        return \"Palindrome\"\n",
    "    else:\n",
    "        return \"Not Palindrome\"\n",
    "s=input(\"Enter the string: \")\n",
    "result=palindrome(s)\n",
    "print(result)"
   ]
  },
  {
   "cell_type": "code",
   "execution_count": 40,
   "metadata": {},
   "outputs": [
    {
     "name": "stdout",
     "output_type": "stream",
     "text": [
      "Enter the No: 10\n",
      "0\n",
      "1\n",
      "1\n",
      "2\n",
      "3\n",
      "5\n",
      "8\n",
      "13\n",
      "21\n",
      "34\n",
      "55\n"
     ]
    }
   ],
   "source": [
    "#fibonacci Series\n",
    "#0 1 1 2 3 5 8 13 21\n",
    "def fib(n):\n",
    "    a=0\n",
    "    b=1\n",
    "    if n<=0:\n",
    "        print(\"Invalid Number\")\n",
    "    elif n==1:\n",
    "        print(a)\n",
    "    else:\n",
    "        print(a)\n",
    "        print(b)\n",
    "    \n",
    "        for i in range(2 , n+1):\n",
    "            c=a+b\n",
    "            a=b\n",
    "            b=c\n",
    "            print (c)\n",
    "    \n",
    "n=int(input(\"Enter the No: \"))\n",
    "fib(n)\n"
   ]
  },
  {
   "cell_type": "code",
   "execution_count": null,
   "metadata": {},
   "outputs": [],
   "source": []
  },
  {
   "cell_type": "code",
   "execution_count": null,
   "metadata": {},
   "outputs": [],
   "source": []
  }
 ],
 "metadata": {
  "kernelspec": {
   "display_name": "Python 3",
   "language": "python",
   "name": "python3"
  },
  "language_info": {
   "codemirror_mode": {
    "name": "ipython",
    "version": 3
   },
   "file_extension": ".py",
   "mimetype": "text/x-python",
   "name": "python",
   "nbconvert_exporter": "python",
   "pygments_lexer": "ipython3",
   "version": "3.7.1"
  }
 },
 "nbformat": 4,
 "nbformat_minor": 2
}
