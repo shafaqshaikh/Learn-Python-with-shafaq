{
 "cells": [
  {
   "cell_type": "markdown",
   "metadata": {},
   "source": [
    "# Introduction to tuple"
   ]
  },
  {
   "cell_type": "code",
   "execution_count": 1,
   "metadata": {},
   "outputs": [
    {
     "name": "stdout",
     "output_type": "stream",
     "text": [
      "(1, 2, 3, 4)\n"
     ]
    }
   ],
   "source": [
    "example=(1 , 2 , 3 ,4)\n",
    "print(example)"
   ]
  },
  {
   "cell_type": "code",
   "execution_count": 2,
   "metadata": {},
   "outputs": [
    {
     "ename": "TypeError",
     "evalue": "'tuple' object does not support item assignment",
     "output_type": "error",
     "traceback": [
      "\u001b[1;31m---------------------------------------------------------------------------\u001b[0m",
      "\u001b[1;31mTypeError\u001b[0m                                 Traceback (most recent call last)",
      "\u001b[1;32m<ipython-input-2-fce5c255d467>\u001b[0m in \u001b[0;36m<module>\u001b[1;34m\u001b[0m\n\u001b[0;32m      1\u001b[0m \u001b[1;31m# tuples are immutable\u001b[0m\u001b[1;33m\u001b[0m\u001b[1;33m\u001b[0m\u001b[1;33m\u001b[0m\u001b[0m\n\u001b[0;32m      2\u001b[0m \u001b[0mexample\u001b[0m\u001b[1;33m=\u001b[0m\u001b[1;33m(\u001b[0m\u001b[1;36m1\u001b[0m \u001b[1;33m,\u001b[0m \u001b[1;36m2\u001b[0m \u001b[1;33m,\u001b[0m \u001b[1;36m3\u001b[0m \u001b[1;33m,\u001b[0m\u001b[1;36m4\u001b[0m\u001b[1;33m)\u001b[0m\u001b[1;33m\u001b[0m\u001b[1;33m\u001b[0m\u001b[0m\n\u001b[1;32m----> 3\u001b[1;33m \u001b[0mexample\u001b[0m\u001b[1;33m[\u001b[0m\u001b[1;36m1\u001b[0m\u001b[1;33m]\u001b[0m\u001b[1;33m=\u001b[0m\u001b[1;36m5\u001b[0m\u001b[1;33m\u001b[0m\u001b[1;33m\u001b[0m\u001b[0m\n\u001b[0m\u001b[0;32m      4\u001b[0m \u001b[0mprint\u001b[0m\u001b[1;33m(\u001b[0m\u001b[0mexample\u001b[0m\u001b[1;33m)\u001b[0m\u001b[1;33m\u001b[0m\u001b[1;33m\u001b[0m\u001b[0m\n",
      "\u001b[1;31mTypeError\u001b[0m: 'tuple' object does not support item assignment"
     ]
    }
   ],
   "source": [
    "# tuples are immutable\n",
    "example=(1 , 2 , 3 ,4)\n",
    "example[1]=5\n",
    "print(example) #it will give an error"
   ]
  },
  {
   "cell_type": "code",
   "execution_count": 4,
   "metadata": {},
   "outputs": [],
   "source": [
    "days=('monday' , 'tuesday' , 'wednesday')\n",
    "#tuples are faster than lists"
   ]
  },
  {
   "cell_type": "markdown",
   "metadata": {},
   "source": [
    "# Different methods in tuple"
   ]
  },
  {
   "cell_type": "code",
   "execution_count": 5,
   "metadata": {},
   "outputs": [],
   "source": [
    "#1.count\n",
    "#2.index\n",
    "#3.len\n",
    "#4.slicing"
   ]
  },
  {
   "cell_type": "code",
   "execution_count": 6,
   "metadata": {},
   "outputs": [
    {
     "name": "stdout",
     "output_type": "stream",
     "text": [
      "3\n"
     ]
    }
   ],
   "source": [
    "#count\n",
    "t=(1 , 1 , 1 ,4 , 2, 5)\n",
    "print(t.count(1))"
   ]
  },
  {
   "cell_type": "code",
   "execution_count": 9,
   "metadata": {},
   "outputs": [
    {
     "name": "stdout",
     "output_type": "stream",
     "text": [
      "5\n"
     ]
    }
   ],
   "source": [
    "#index\n",
    "t=(1 , 1 , 1 ,4 , 2, 5)\n",
    "print(t.index(5))"
   ]
  },
  {
   "cell_type": "code",
   "execution_count": 11,
   "metadata": {},
   "outputs": [
    {
     "name": "stdout",
     "output_type": "stream",
     "text": [
      "6\n"
     ]
    }
   ],
   "source": [
    "#len\n",
    "t=(1 , 1 , 1 ,4 , 2, 5)\n",
    "print(len(t))\n"
   ]
  },
  {
   "cell_type": "code",
   "execution_count": 12,
   "metadata": {},
   "outputs": [
    {
     "name": "stdout",
     "output_type": "stream",
     "text": [
      "(1, 4)\n"
     ]
    }
   ],
   "source": [
    "#slicing\n",
    "t=(1 , 1 , 1 ,4 , 2, 5)\n",
    "print(t[2:4])"
   ]
  },
  {
   "cell_type": "code",
   "execution_count": 16,
   "metadata": {},
   "outputs": [
    {
     "name": "stdout",
     "output_type": "stream",
     "text": [
      "<class 'tuple'>\n"
     ]
    }
   ],
   "source": [
    "no=(1 ,)\n",
    "print(type(no))"
   ]
  },
  {
   "cell_type": "code",
   "execution_count": 17,
   "metadata": {},
   "outputs": [
    {
     "name": "stdout",
     "output_type": "stream",
     "text": [
      "<class 'tuple'>\n"
     ]
    }
   ],
   "source": [
    "n=('shafaq' ,)\n",
    "print(type(n))"
   ]
  },
  {
   "cell_type": "code",
   "execution_count": 15,
   "metadata": {},
   "outputs": [
    {
     "name": "stdout",
     "output_type": "stream",
     "text": [
      "<class 'list'>\n"
     ]
    }
   ],
   "source": [
    "n=[1]\n",
    "print(type(n))"
   ]
  },
  {
   "cell_type": "code",
   "execution_count": 21,
   "metadata": {},
   "outputs": [
    {
     "name": "stdout",
     "output_type": "stream",
     "text": [
      "john bella stark jacob\n"
     ]
    }
   ],
   "source": [
    "#tuple unpacking\n",
    "name=('john' , 'bella' , 'stark' , 'jacob')\n",
    "r1 , r2 , r3 , r4 =(name)\n",
    "print(r1 , r2 , r3 , r4)"
   ]
  },
  {
   "cell_type": "markdown",
   "metadata": {},
   "source": [
    "# Introduction to Dictionaries"
   ]
  },
  {
   "cell_type": "markdown",
   "metadata": {},
   "source": []
  },
  {
   "cell_type": "code",
   "execution_count": 22,
   "metadata": {},
   "outputs": [
    {
     "name": "stdout",
     "output_type": "stream",
     "text": [
      "{1: 'jacob', 2: 'bella', 3: 'stark'}\n"
     ]
    }
   ],
   "source": [
    "d={1:'jacob' , 2:'bella' , 3:'stark'}\n",
    "print(d)\n"
   ]
  },
  {
   "cell_type": "code",
   "execution_count": 25,
   "metadata": {},
   "outputs": [
    {
     "name": "stdout",
     "output_type": "stream",
     "text": [
      "bella\n"
     ]
    }
   ],
   "source": [
    "d={'a':'jacob' , 'b':'bella' , 'c':'stark'}\n",
    "print(d['b'])"
   ]
  },
  {
   "cell_type": "code",
   "execution_count": 26,
   "metadata": {},
   "outputs": [
    {
     "name": "stdout",
     "output_type": "stream",
     "text": [
      "dict_values(['jacob', 'bella', 'stark'])\n"
     ]
    }
   ],
   "source": [
    "d={'a':'jacob' , 'b':'bella' , 'c':'stark'}\n",
    "print(d.values())"
   ]
  },
  {
   "cell_type": "code",
   "execution_count": 27,
   "metadata": {},
   "outputs": [
    {
     "name": "stdout",
     "output_type": "stream",
     "text": [
      "dict_keys(['a', 'b', 'c'])\n"
     ]
    }
   ],
   "source": [
    "d={'a':'jacob' , 'b':'bella' , 'c':'stark'}\n",
    "print(d.keys())"
   ]
  },
  {
   "cell_type": "code",
   "execution_count": 30,
   "metadata": {},
   "outputs": [
    {
     "name": "stdout",
     "output_type": "stream",
     "text": [
      "The key is a and the value is jacob \n",
      "The key is b and the value is bella \n",
      "The key is c and the value is stark \n"
     ]
    }
   ],
   "source": [
    "# for loop in dictionaries\n",
    "d={'a':'jacob' , 'b':'bella' , 'c':'stark'}\n",
    "for i , j in d.items():\n",
    "    print(f\"The key is {i} and the value is {j} \") \n"
   ]
  },
  {
   "cell_type": "code",
   "execution_count": 31,
   "metadata": {},
   "outputs": [
    {
     "name": "stdout",
     "output_type": "stream",
     "text": [
      "{'a': 'jacob', 'b': 'bella', 'c': 'stark', 'd': 'edward'}\n"
     ]
    }
   ],
   "source": [
    "#how to add data in dictionary\n",
    "d={'a':'jacob' , 'b':'bella' , 'c':'stark'}\n",
    "d['d'] ='edward' #d[key] = value\n",
    "print(d)"
   ]
  },
  {
   "cell_type": "code",
   "execution_count": 32,
   "metadata": {},
   "outputs": [
    {
     "name": "stdout",
     "output_type": "stream",
     "text": [
      "{'a': 'jacob', 'b': 'bella', 'd': 'edward'}\n"
     ]
    }
   ],
   "source": [
    "#how to delete data from dictionary\n",
    "d={'a':'jacob' , 'b':'bella' , 'c':'stark' , 'd': 'edward'}\n",
    "d.pop('c')\n",
    "print(d)"
   ]
  },
  {
   "cell_type": "code",
   "execution_count": 33,
   "metadata": {},
   "outputs": [
    {
     "name": "stdout",
     "output_type": "stream",
     "text": [
      "{'n1': 1, 'n2': 2, 'n3': 3, 'n4': 4}\n"
     ]
    }
   ],
   "source": [
    "#how to join two dictionaries\n",
    "d1={'n1':1 , 'n2':2}\n",
    "d2={'n3':3 , 'n4':4}\n",
    "d1.update(d2)\n",
    "print(d1)"
   ]
  },
  {
   "cell_type": "code",
   "execution_count": 34,
   "metadata": {},
   "outputs": [
    {
     "name": "stdout",
     "output_type": "stream",
     "text": [
      "{'n3': 3, 'n4': 4, 'n1': 1, 'n2': 2}\n"
     ]
    }
   ],
   "source": [
    "d1={'n1':1 , 'n2':2}\n",
    "d2={'n3':3 , 'n4':4}\n",
    "d2.update(d1)\n",
    "print(d2)"
   ]
  },
  {
   "cell_type": "markdown",
   "metadata": {},
   "source": [
    "# Methods of dictionary"
   ]
  },
  {
   "cell_type": "code",
   "execution_count": 35,
   "metadata": {},
   "outputs": [],
   "source": [
    "#1.fromkeys\n",
    "#2.get"
   ]
  },
  {
   "cell_type": "code",
   "execution_count": 39,
   "metadata": {},
   "outputs": [
    {
     "name": "stdout",
     "output_type": "stream",
     "text": [
      "{'name': 'same', 'age': 'same', 'height': 'same', 'gender': 'same'}\n"
     ]
    }
   ],
   "source": [
    "#fromkeys\n",
    "#d=dict()\n",
    "d=dict.fromkeys(['name' , 'age' , 'height' , 'gender'] , 'same')\n",
    "print(d)"
   ]
  },
  {
   "cell_type": "code",
   "execution_count": 40,
   "metadata": {},
   "outputs": [
    {
     "name": "stdout",
     "output_type": "stream",
     "text": [
      "{1: 'NA', 2: 'NA', 3: 'NA', 4: 'NA', 5: 'NA', 6: 'NA', 7: 'NA', 8: 'NA', 9: 'NA', 10: 'NA'}\n"
     ]
    }
   ],
   "source": [
    "d=dict.fromkeys(range(1 , 11) , 'NA')\n",
    "print(d)"
   ]
  },
  {
   "cell_type": "code",
   "execution_count": 43,
   "metadata": {},
   "outputs": [
    {
     "name": "stdout",
     "output_type": "stream",
     "text": [
      "stark\n"
     ]
    }
   ],
   "source": [
    "#get\n",
    "d={'a':'jacob' , 'b':'bella' , 'c':'stark' , 'd': 'edward'}\n",
    "print(d.get('c'))"
   ]
  },
  {
   "cell_type": "code",
   "execution_count": 44,
   "metadata": {},
   "outputs": [
    {
     "name": "stdout",
     "output_type": "stream",
     "text": [
      "enter the no: 11\n",
      "{1: 1, 2: 8, 3: 27, 4: 64, 5: 125, 6: 216, 7: 343, 8: 512, 9: 729, 10: 1000, 11: 1331}\n"
     ]
    }
   ],
   "source": [
    "#define a function that takes number and return cube and store it to the dictionary\n",
    "def cube_finder(n):\n",
    "    cube={}\n",
    "    for i in range(1 , n+1):\n",
    "        cube[i] = i**3 \n",
    "    return cube\n",
    "n=int(input(\"enter the no: \"))\n",
    "res=cube_finder(n)\n",
    "print(res)"
   ]
  },
  {
   "cell_type": "code",
   "execution_count": 46,
   "metadata": {},
   "outputs": [
    {
     "name": "stdout",
     "output_type": "stream",
     "text": [
      "enter the string: tanveer\n",
      "{'t': 1, 'a': 1, 'n': 1, 'v': 1, 'e': 2, 'r': 1}\n"
     ]
    }
   ],
   "source": [
    "#word counter\n",
    "#\"shafaq\" {s:1 , h:1 , a:2 , q:1}\n",
    "def word_counter(s):\n",
    "    count={} #shafaq\n",
    "    for char in s:               \n",
    "        count[char] =s.count(char) \n",
    "    return count\n",
    "s=input(\"enter the string: \")\n",
    "res=word_counter(s)\n",
    "print(res)\n",
    "         "
   ]
  },
  {
   "cell_type": "markdown",
   "metadata": {},
   "source": [
    "# Functional Programming"
   ]
  },
  {
   "cell_type": "code",
   "execution_count": 47,
   "metadata": {},
   "outputs": [],
   "source": [
    "#1lambda function\n",
    "#2 map function\n",
    "#3 zip function\n",
    "#4 enumerate function\n",
    "#5 filter"
   ]
  },
  {
   "cell_type": "code",
   "execution_count": 48,
   "metadata": {},
   "outputs": [
    {
     "data": {
      "text/plain": [
       "5"
      ]
     },
     "execution_count": 48,
     "metadata": {},
     "output_type": "execute_result"
    }
   ],
   "source": [
    "#1 lambda function\n",
    "def add(a , b):\n",
    "    c=a+b\n",
    "    return c\n",
    "add(2,3)"
   ]
  },
  {
   "cell_type": "code",
   "execution_count": 49,
   "metadata": {},
   "outputs": [
    {
     "name": "stdout",
     "output_type": "stream",
     "text": [
      "7\n"
     ]
    }
   ],
   "source": [
    "add=lambda a , b: a+b\n",
    "print(add(2 ,5))"
   ]
  },
  {
   "cell_type": "code",
   "execution_count": 50,
   "metadata": {},
   "outputs": [
    {
     "name": "stdout",
     "output_type": "stream",
     "text": [
      "16\n"
     ]
    }
   ],
   "source": [
    "square=lambda a : a**2\n",
    "print(square(4))"
   ]
  },
  {
   "cell_type": "code",
   "execution_count": 52,
   "metadata": {},
   "outputs": [
    {
     "name": "stdout",
     "output_type": "stream",
     "text": [
      "odd\n"
     ]
    }
   ],
   "source": [
    "def even(n):\n",
    "    if n%2==0:\n",
    "        print('even')\n",
    "    else:\n",
    "        print('odd')\n",
    "even(3)"
   ]
  },
  {
   "cell_type": "code",
   "execution_count": 54,
   "metadata": {},
   "outputs": [
    {
     "name": "stdout",
     "output_type": "stream",
     "text": [
      "True\n"
     ]
    }
   ],
   "source": [
    "even=lambda n : n%2==0\n",
    "print(even(4))"
   ]
  },
  {
   "cell_type": "code",
   "execution_count": 55,
   "metadata": {},
   "outputs": [
    {
     "name": "stdout",
     "output_type": "stream",
     "text": [
      "q\n"
     ]
    }
   ],
   "source": [
    "last_char=lambda s : s[-1]\n",
    "print(last_char('shafaq'))"
   ]
  },
  {
   "cell_type": "code",
   "execution_count": 61,
   "metadata": {},
   "outputs": [
    {
     "name": "stdout",
     "output_type": "stream",
     "text": [
      "[2, 4, 6, 8]\n"
     ]
    }
   ],
   "source": [
    "# map function\n",
    "\n",
    "li=[1 ,2  ,3 ,4 ]\n",
    "li=list(map(lambda a : a*2 , li))\n",
    "print(li)\n",
    "    "
   ]
  },
  {
   "cell_type": "code",
   "execution_count": 63,
   "metadata": {},
   "outputs": [
    {
     "name": "stdout",
     "output_type": "stream",
     "text": [
      "[1, 8, 27, 64]\n"
     ]
    }
   ],
   "source": [
    "li=[1 ,2  ,3 ,4 ]\n",
    "li=list(map(lambda a : a**3 , li))\n",
    "print(li)"
   ]
  },
  {
   "cell_type": "code",
   "execution_count": 65,
   "metadata": {},
   "outputs": [
    {
     "name": "stdout",
     "output_type": "stream",
     "text": [
      "[1, 3]\n"
     ]
    }
   ],
   "source": [
    "# filter\n",
    "li=[1 ,2  ,3 ,4 ]\n",
    "li=list(filter(lambda a : a%2!=0 , li))\n",
    "print(li)"
   ]
  },
  {
   "cell_type": "code",
   "execution_count": 68,
   "metadata": {},
   "outputs": [
    {
     "name": "stdout",
     "output_type": "stream",
     "text": [
      "{'navin ': 1, 'kiran': 2, 'harsh': 3}\n"
     ]
    }
   ],
   "source": [
    "#zip function \n",
    "names=(\"navin \" , \"kiran\" , \"harsh\" )\n",
    "rollno=(1 , 2 , 3)\n",
    "zipped=dict(zip(names , rollno))\n",
    "print(zipped)"
   ]
  },
  {
   "cell_type": "code",
   "execution_count": 69,
   "metadata": {},
   "outputs": [],
   "source": [
    "#enumerate function\n",
    "#[1 , 2 , 3]-value\n",
    " #0    1   2 - index"
   ]
  },
  {
   "cell_type": "code",
   "execution_count": 70,
   "metadata": {},
   "outputs": [
    {
     "name": "stdout",
     "output_type": "stream",
     "text": [
      "the index is 0 and the value is john\n",
      "the index is 1 and the value is bella\n",
      "the index is 2 and the value is jacob\n",
      "the index is 3 and the value is stark\n"
     ]
    }
   ],
   "source": [
    "name=['john' , 'bella' , 'jacob' , 'stark']\n",
    "\n",
    "#0 - john 1-bella\n",
    "for i , j in enumerate(name):\n",
    "    print(f\"the index is {i} and the value is {j}\")\n",
    "    "
   ]
  },
  {
   "cell_type": "code",
   "execution_count": 74,
   "metadata": {},
   "outputs": [
    {
     "name": "stdout",
     "output_type": "stream",
     "text": [
      "enter the name: stark\n",
      "3\n"
     ]
    }
   ],
   "source": [
    "\n",
    "def find_index(l , target):\n",
    "    for position , name in enumerate(l):\n",
    "        if name==target:\n",
    "            return position\n",
    "    return -1\n",
    "name=['john' , 'bella' , 'jacob' , 'stark']\n",
    "string=input(\"enter the name: \")\n",
    "res=find_index(name , string)\n",
    "print(res)\n",
    "    "
   ]
  },
  {
   "cell_type": "code",
   "execution_count": null,
   "metadata": {},
   "outputs": [],
   "source": []
  }
 ],
 "metadata": {
  "kernelspec": {
   "display_name": "Python 3",
   "language": "python",
   "name": "python3"
  },
  "language_info": {
   "codemirror_mode": {
    "name": "ipython",
    "version": 3
   },
   "file_extension": ".py",
   "mimetype": "text/x-python",
   "name": "python",
   "nbconvert_exporter": "python",
   "pygments_lexer": "ipython3",
   "version": "3.7.1"
  }
 },
 "nbformat": 4,
 "nbformat_minor": 2
}
